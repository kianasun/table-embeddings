{
 "cells": [
  {
   "cell_type": "code",
   "execution_count": 96,
   "metadata": {},
   "outputs": [],
   "source": [
    "import time \n",
    "start_time  = int(time.time())\n",
    "import pandas as pd \n",
    "import numpy as np\n",
    "from keras.layers import *\n",
    "from keras.models import Sequential, Model\n",
    "import pickle"
   ]
  },
  {
   "cell_type": "code",
   "execution_count": 97,
   "metadata": {},
   "outputs": [],
   "source": [
    "df_train = pd.read_csv(\"train.csv\")\n",
    "df_train = df_train.sample(frac=1).reset_index(drop=True)"
   ]
  },
  {
   "cell_type": "code",
   "execution_count": 98,
   "metadata": {},
   "outputs": [
    {
     "name": "stdout",
     "output_type": "stream",
     "text": [
      "595212\n"
     ]
    }
   ],
   "source": [
    "print(len(df_train))"
   ]
  },
  {
   "cell_type": "code",
   "execution_count": 99,
   "metadata": {},
   "outputs": [],
   "source": [
    "df_train_cat0 = df_train.loc[ df_train['target'] == 0 ]\n",
    "df_train_cat1 = df_train.loc[ df_train['target'] == 1 ]"
   ]
  },
  {
   "cell_type": "code",
   "execution_count": 100,
   "metadata": {},
   "outputs": [],
   "source": [
    "df_train = df_train_cat0[:40000].append(df_train_cat1 )"
   ]
  },
  {
   "cell_type": "code",
   "execution_count": 101,
   "metadata": {},
   "outputs": [
    {
     "name": "stdout",
     "output_type": "stream",
     "text": [
      "0    40000\n",
      "1    21694\n",
      "Name: target, dtype: int64\n"
     ]
    }
   ],
   "source": [
    "print(df_train['target'].value_counts())"
   ]
  },
  {
   "cell_type": "code",
   "execution_count": 102,
   "metadata": {},
   "outputs": [],
   "source": [
    "df_train = df_train.sample(frac=1).reset_index(drop=True)"
   ]
  },
  {
   "cell_type": "code",
   "execution_count": 103,
   "metadata": {},
   "outputs": [],
   "source": [
    "Y_labels = df_train['target']"
   ]
  },
  {
   "cell_type": "code",
   "execution_count": 104,
   "metadata": {},
   "outputs": [],
   "source": [
    "df_train = df_train.drop(\"id\", 1)\n",
    "df_train = df_train.drop(\"target\", 1)\n",
    "all_cols = df_train.columns"
   ]
  },
  {
   "cell_type": "code",
   "execution_count": 105,
   "metadata": {},
   "outputs": [],
   "source": [
    "categoical_vars = [ ]\n",
    "continous_vars = [ ]\n",
    "categoical_binary_vars = [ ]\n",
    "\n",
    "for col in all_cols:\n",
    "    #if \"bin\" in col :\n",
    "    #    categoical_binary_vars.append(col)\n",
    "    if \"cat\" in col :\n",
    "        categoical_vars.append(col)\n",
    "    else:\n",
    "        continous_vars.append(col)"
   ]
  },
  {
   "cell_type": "code",
   "execution_count": 106,
   "metadata": {},
   "outputs": [
    {
     "name": "stdout",
     "output_type": "stream",
     "text": [
      "categorical binary vars:  0\n",
      "categorical non binary vars:  14\n",
      "continues vars:  43\n"
     ]
    }
   ],
   "source": [
    "print (\"categorical binary vars: \", len(categoical_binary_vars))\n",
    "print (\"categorical non binary vars: \", len(categoical_vars))\n",
    "print (\"continues vars: \", len(continous_vars))"
   ]
  },
  {
   "cell_type": "code",
   "execution_count": 107,
   "metadata": {},
   "outputs": [
    {
     "name": "stdout",
     "output_type": "stream",
     "text": [
      "ps_ind_02_cat 5\n",
      "ps_ind_04_cat 3\n",
      "ps_ind_05_cat 8\n",
      "ps_car_01_cat 13\n",
      "ps_car_02_cat 2\n",
      "ps_car_03_cat 3\n",
      "ps_car_04_cat 10\n",
      "ps_car_05_cat 3\n",
      "ps_car_06_cat 18\n",
      "ps_car_07_cat 3\n",
      "ps_car_08_cat 2\n",
      "ps_car_09_cat 6\n",
      "ps_car_10_cat 3\n",
      "ps_car_11_cat 104\n"
     ]
    }
   ],
   "source": [
    "for cat_var in categoical_vars:\n",
    "    print (cat_var, df_train[cat_var].nunique())"
   ]
  },
  {
   "cell_type": "code",
   "execution_count": 108,
   "metadata": {},
   "outputs": [],
   "source": [
    "df_tr = df_train[:40000]\n",
    "df_val = df_train[40000:]\n",
    "\n",
    "\n",
    "Y_train  = Y_labels[:40000]\n",
    "Y_val  = Y_labels[40000: ]"
   ]
  },
  {
   "cell_type": "code",
   "execution_count": 109,
   "metadata": {},
   "outputs": [],
   "source": [
    "other_cols = [i for i in all_cols if i not in categoical_vars ]"
   ]
  },
  {
   "cell_type": "code",
   "execution_count": 110,
   "metadata": {},
   "outputs": [],
   "source": [
    "categoical_vars = categoical_vars[:2]\n",
    "other_cols = other_cols[:3]"
   ]
  },
  {
   "cell_type": "code",
   "execution_count": 111,
   "metadata": {},
   "outputs": [],
   "source": [
    "def preproc(X_train ) : \n",
    "\n",
    "    input_list_train = []\n",
    "    \n",
    "    for c in categoical_vars :\n",
    "        \n",
    "        vals = np.asarray(X_train[c].tolist())\n",
    "        vals = pd.factorize( vals )[0]\n",
    "        input_list_train.append( np.asarray(vals)  )\n",
    "\n",
    "    input_list_train.append(X_train[other_cols].values)\n",
    "    return input_list_train"
   ]
  },
  {
   "cell_type": "code",
   "execution_count": 112,
   "metadata": {},
   "outputs": [],
   "source": [
    "df_tr_modified = preproc( df_tr )\n",
    "df_val = preproc(df_val)"
   ]
  },
  {
   "cell_type": "code",
   "execution_count": 145,
   "metadata": {},
   "outputs": [
    {
     "name": "stdout",
     "output_type": "stream",
     "text": [
      "------------------------------------------------------------------\n",
      "for categoical column  ps_ind_02_cat\n",
      "number of unique cat 5\n",
      "embedding_size set as  2\n",
      "------------------------------------------------------------------\n",
      "for categoical column  ps_ind_04_cat\n",
      "number of unique cat 3\n",
      "embedding_size set as  1\n"
     ]
    }
   ],
   "source": [
    "outputs = []\n",
    "inputs = []\n",
    "for categoical_var in categoical_vars :\n",
    "    print(\"------------------------------------------------------------------\")\n",
    "    print(\"for categoical column \", categoical_var)\n",
    "    #model = Sequential()\n",
    "    no_of_unique_cat  = df_train[categoical_var].nunique()\n",
    "    print(\"number of unique cat\",no_of_unique_cat)\n",
    "    embedding_size = min(np.ceil((no_of_unique_cat)//2), 50 )\n",
    "    embedding_size = int(embedding_size)\n",
    "    print(\"embedding_size set as \", embedding_size)\n",
    "    #model.add(  Embedding( no_of_unique_cat+1, embedding_size, input_length = 1 ) )\n",
    "    \n",
    "    #model.add(Reshape(target_shape=( [embedding_size] )))\n",
    "    inp = Input((1, ))\n",
    "    model = Embedding( no_of_unique_cat+1, embedding_size, input_length = 1 )(inp)\n",
    "    model = Reshape(target_shape=( [embedding_size] ))(model)\n",
    "    #print(model.summary())\n",
    "    \n",
    "    outputs.append(model)\n",
    "    inputs.append(inp)"
   ]
  },
  {
   "cell_type": "code",
   "execution_count": 146,
   "metadata": {},
   "outputs": [
    {
     "name": "stdout",
     "output_type": "stream",
     "text": [
      "[<tf.Tensor 'input_60:0' shape=(?, 1) dtype=float32>, <tf.Tensor 'input_61:0' shape=(?, 1) dtype=float32>, <tf.Tensor 'input_62:0' shape=(?, 3) dtype=float32>]\n",
      "[<tf.Tensor 'reshape_64/Reshape:0' shape=(?, 2) dtype=float32>, <tf.Tensor 'reshape_65/Reshape:0' shape=(?, 1) dtype=float32>, <tf.Tensor 'reshape_66/Reshape:0' shape=(?, 16) dtype=float32>]\n",
      "Tensor(\"concatenate_21/concat:0\", shape=(?, 19), dtype=float32)\n"
     ]
    }
   ],
   "source": [
    "#model_rest = Sequential()\n",
    "#model_rest.add(Dense(16, input_shape = [3] ))\n",
    "#model_rest.summary() \n",
    "#models.append(model_rest)\n",
    "inp_rest = Input((3, ))\n",
    "model_rest = Dense(16, input_shape=[3])(inp_rest)\n",
    "model_rest = Reshape(target_shape=([16]))(model_rest)\n",
    "outputs.append(model_rest)\n",
    "inputs.append(inp_rest)\n",
    "print(inputs)\n",
    "print(outputs)\n",
    "outputs = Concatenate()(outputs)\n",
    "print(outputs)"
   ]
  },
  {
   "cell_type": "code",
   "execution_count": null,
   "metadata": {},
   "outputs": [],
   "source": []
  },
  {
   "cell_type": "code",
   "execution_count": 147,
   "metadata": {},
   "outputs": [
    {
     "name": "stdout",
     "output_type": "stream",
     "text": [
      "Tensor(\"dense_120/BiasAdd:0\", shape=(?, 1024), dtype=float32)\n",
      "Tensor(\"dense_121/BiasAdd:0\", shape=(?, 512), dtype=float32)\n",
      "__________________________________________________________________________________________________\n",
      "Layer (type)                    Output Shape         Param #     Connected to                     \n",
      "==================================================================================================\n",
      "input_60 (InputLayer)           (None, 1)            0                                            \n",
      "__________________________________________________________________________________________________\n",
      "input_61 (InputLayer)           (None, 1)            0                                            \n",
      "__________________________________________________________________________________________________\n",
      "input_62 (InputLayer)           (None, 3)            0                                            \n",
      "__________________________________________________________________________________________________\n",
      "embedding_38 (Embedding)        (None, 1, 2)         12          input_60[0][0]                   \n",
      "__________________________________________________________________________________________________\n",
      "embedding_39 (Embedding)        (None, 1, 1)         4           input_61[0][0]                   \n",
      "__________________________________________________________________________________________________\n",
      "dense_119 (Dense)               (None, 16)           64          input_62[0][0]                   \n",
      "__________________________________________________________________________________________________\n",
      "reshape_64 (Reshape)            (None, 2)            0           embedding_38[0][0]               \n",
      "__________________________________________________________________________________________________\n",
      "reshape_65 (Reshape)            (None, 1)            0           embedding_39[0][0]               \n",
      "__________________________________________________________________________________________________\n",
      "reshape_66 (Reshape)            (None, 16)           0           dense_119[0][0]                  \n",
      "__________________________________________________________________________________________________\n",
      "concatenate_21 (Concatenate)    (None, 19)           0           reshape_64[0][0]                 \n",
      "                                                                 reshape_65[0][0]                 \n",
      "                                                                 reshape_66[0][0]                 \n",
      "__________________________________________________________________________________________________\n",
      "dense_120 (Dense)               (None, 1024)         20480       concatenate_21[0][0]             \n",
      "__________________________________________________________________________________________________\n",
      "activation_85 (Activation)      (None, 1024)         0           dense_120[0][0]                  \n",
      "__________________________________________________________________________________________________\n",
      "dense_121 (Dense)               (None, 512)          524800      activation_85[0][0]              \n",
      "__________________________________________________________________________________________________\n",
      "activation_86 (Activation)      (None, 512)          0           dense_121[0][0]                  \n",
      "__________________________________________________________________________________________________\n",
      "dense_122 (Dense)               (None, 256)          131328      activation_86[0][0]              \n",
      "__________________________________________________________________________________________________\n",
      "activation_87 (Activation)      (None, 256)          0           dense_122[0][0]                  \n",
      "__________________________________________________________________________________________________\n",
      "dense_123 (Dense)               (None, 2)            514         activation_87[0][0]              \n",
      "__________________________________________________________________________________________________\n",
      "activation_88 (Activation)      (None, 2)            0           dense_123[0][0]                  \n",
      "==================================================================================================\n",
      "Total params: 677,202\n",
      "Trainable params: 677,202\n",
      "Non-trainable params: 0\n",
      "__________________________________________________________________________________________________\n"
     ]
    }
   ],
   "source": [
    "outputs = Dense(1024)(outputs)\n",
    "print(outputs)\n",
    "outputs = Activation('relu')(outputs)\n",
    "outputs = Dense(512)(outputs)\n",
    "print(outputs)\n",
    "outputs = Activation('relu')(outputs)\n",
    "outputs = Dense(256)(outputs)\n",
    "outputs = Activation('sigmoid')(outputs)\n",
    "\n",
    "outputs = Dense(2)(outputs)\n",
    "outputs = Activation('sigmoid')(outputs)\n",
    "\n",
    "full_model = Model(inputs=inputs, outputs=outputs)\n",
    "full_model.compile(loss='binary_crossentropy', optimizer='adam',metrics=['accuracy'])\n",
    "full_model.summary()"
   ]
  },
  {
   "cell_type": "code",
   "execution_count": 148,
   "metadata": {},
   "outputs": [],
   "source": [
    "from keras.utils.np_utils import to_categorical\n",
    "Y_train_cat = to_categorical(Y_train.tolist() )\n",
    "Y_val_cat = to_categorical(Y_val.tolist()  )"
   ]
  },
  {
   "cell_type": "code",
   "execution_count": 150,
   "metadata": {},
   "outputs": [
    {
     "name": "stdout",
     "output_type": "stream",
     "text": [
      "Epoch 1/100\n",
      "40000/40000 [==============================] - 16s 391us/step - loss: 0.6453 - acc: 0.6486\n",
      "Epoch 2/100\n",
      "40000/40000 [==============================] - 15s 383us/step - loss: 0.6445 - acc: 0.6481\n",
      "Epoch 3/100\n",
      "40000/40000 [==============================] - 15s 373us/step - loss: 0.6440 - acc: 0.6489\n",
      "Epoch 4/100\n",
      "40000/40000 [==============================] - 15s 382us/step - loss: 0.6435 - acc: 0.6488\n",
      "Epoch 5/100\n",
      "40000/40000 [==============================] - 16s 391us/step - loss: 0.6432 - acc: 0.6494\n",
      "Epoch 6/100\n",
      "40000/40000 [==============================] - 16s 391us/step - loss: 0.6426 - acc: 0.6498\n",
      "Epoch 7/100\n",
      "40000/40000 [==============================] - 16s 400us/step - loss: 0.6434 - acc: 0.6495\n",
      "Epoch 8/100\n",
      "40000/40000 [==============================] - 16s 393us/step - loss: 0.6429 - acc: 0.6485\n",
      "Epoch 9/100\n",
      "40000/40000 [==============================] - 15s 379us/step - loss: 0.6420 - acc: 0.6499\n",
      "Epoch 10/100\n",
      "40000/40000 [==============================] - 15s 385us/step - loss: 0.6411 - acc: 0.6487\n",
      "Epoch 11/100\n",
      "40000/40000 [==============================] - 15s 377us/step - loss: 0.6412 - acc: 0.6494\n",
      "Epoch 12/100\n",
      "40000/40000 [==============================] - 15s 375us/step - loss: 0.6412 - acc: 0.6493\n",
      "Epoch 13/100\n",
      "40000/40000 [==============================] - 15s 373us/step - loss: 0.6405 - acc: 0.6496\n",
      "Epoch 14/100\n",
      "40000/40000 [==============================] - 16s 397us/step - loss: 0.6406 - acc: 0.6499\n",
      "Epoch 15/100\n",
      "40000/40000 [==============================] - 15s 386us/step - loss: 0.6405 - acc: 0.6492\n",
      "Epoch 16/100\n",
      "40000/40000 [==============================] - 15s 383us/step - loss: 0.6403 - acc: 0.6497\n",
      "Epoch 17/100\n",
      "40000/40000 [==============================] - 15s 383us/step - loss: 0.6400 - acc: 0.6498\n",
      "Epoch 18/100\n",
      "40000/40000 [==============================] - 16s 401us/step - loss: 0.6400 - acc: 0.6497\n",
      "Epoch 19/100\n",
      "40000/40000 [==============================] - 15s 378us/step - loss: 0.6398 - acc: 0.6493\n",
      "Epoch 20/100\n",
      "40000/40000 [==============================] - 16s 391us/step - loss: 0.6396 - acc: 0.6500\n",
      "Epoch 21/100\n",
      "40000/40000 [==============================] - 16s 391us/step - loss: 0.6395 - acc: 0.6498\n",
      "Epoch 22/100\n",
      "40000/40000 [==============================] - 16s 405us/step - loss: 0.6394 - acc: 0.6496\n",
      "Epoch 23/100\n",
      "40000/40000 [==============================] - 15s 379us/step - loss: 0.6396 - acc: 0.6496\n",
      "Epoch 24/100\n",
      "40000/40000 [==============================] - 16s 388us/step - loss: 0.6395 - acc: 0.6498\n",
      "Epoch 25/100\n",
      "40000/40000 [==============================] - 16s 392us/step - loss: 0.6392 - acc: 0.64960s - loss: 0.6391 - a\n",
      "Epoch 26/100\n",
      "40000/40000 [==============================] - 16s 390us/step - loss: 0.6389 - acc: 0.6495\n",
      "Epoch 27/100\n",
      "40000/40000 [==============================] - 16s 388us/step - loss: 0.6392 - acc: 0.6493\n",
      "Epoch 28/100\n",
      "40000/40000 [==============================] - 16s 389us/step - loss: 0.6388 - acc: 0.6496\n",
      "Epoch 29/100\n",
      "40000/40000 [==============================] - 16s 392us/step - loss: 0.6391 - acc: 0.6499\n",
      "Epoch 30/100\n",
      "40000/40000 [==============================] - 17s 425us/step - loss: 0.6388 - acc: 0.6494\n",
      "Epoch 31/100\n",
      "40000/40000 [==============================] - 15s 378us/step - loss: 0.6387 - acc: 0.6496\n",
      "Epoch 32/100\n",
      "40000/40000 [==============================] - 15s 383us/step - loss: 0.6387 - acc: 0.6499\n",
      "Epoch 33/100\n",
      "40000/40000 [==============================] - 15s 387us/step - loss: 0.6386 - acc: 0.6498\n",
      "Epoch 34/100\n",
      "40000/40000 [==============================] - 16s 389us/step - loss: 0.6384 - acc: 0.6495\n",
      "Epoch 35/100\n",
      "40000/40000 [==============================] - 16s 392us/step - loss: 0.6386 - acc: 0.6496\n",
      "Epoch 36/100\n",
      "40000/40000 [==============================] - 15s 386us/step - loss: 0.6384 - acc: 0.6500\n",
      "Epoch 37/100\n",
      "40000/40000 [==============================] - 16s 408us/step - loss: 0.6384 - acc: 0.6496\n",
      "Epoch 38/100\n",
      "40000/40000 [==============================] - 16s 398us/step - loss: 0.6384 - acc: 0.6499\n",
      "Epoch 39/100\n",
      "40000/40000 [==============================] - 16s 401us/step - loss: 0.6383 - acc: 0.6499\n",
      "Epoch 40/100\n",
      "40000/40000 [==============================] - 15s 378us/step - loss: 0.6385 - acc: 0.6497\n",
      "Epoch 41/100\n",
      "40000/40000 [==============================] - 15s 383us/step - loss: 0.6381 - acc: 0.6499\n",
      "Epoch 42/100\n",
      "40000/40000 [==============================] - 15s 386us/step - loss: 0.6378 - acc: 0.6498\n",
      "Epoch 43/100\n",
      "40000/40000 [==============================] - 16s 392us/step - loss: 0.6380 - acc: 0.6502\n",
      "Epoch 44/100\n",
      "40000/40000 [==============================] - 16s 391us/step - loss: 0.6379 - acc: 0.6504\n",
      "Epoch 45/100\n",
      "40000/40000 [==============================] - 16s 397us/step - loss: 0.6378 - acc: 0.6500\n",
      "Epoch 46/100\n",
      "40000/40000 [==============================] - 16s 401us/step - loss: 0.6378 - acc: 0.6499\n",
      "Epoch 47/100\n",
      "40000/40000 [==============================] - 16s 403us/step - loss: 0.6377 - acc: 0.6503\n",
      "Epoch 48/100\n",
      "40000/40000 [==============================] - 16s 395us/step - loss: 0.6377 - acc: 0.6498\n",
      "Epoch 49/100\n",
      "40000/40000 [==============================] - 16s 406us/step - loss: 0.6375 - acc: 0.6502\n",
      "Epoch 50/100\n",
      "40000/40000 [==============================] - 17s 414us/step - loss: 0.6376 - acc: 0.6499\n",
      "Epoch 51/100\n",
      "40000/40000 [==============================] - 18s 441us/step - loss: 0.6378 - acc: 0.6497\n",
      "Epoch 52/100\n",
      "40000/40000 [==============================] - 16s 399us/step - loss: 0.6375 - acc: 0.6505\n",
      "Epoch 53/100\n",
      "40000/40000 [==============================] - 15s 380us/step - loss: 0.6373 - acc: 0.6502\n",
      "Epoch 54/100\n",
      "40000/40000 [==============================] - 15s 376us/step - loss: 0.6374 - acc: 0.6505\n",
      "Epoch 55/100\n",
      "40000/40000 [==============================] - 15s 385us/step - loss: 0.6374 - acc: 0.6499\n",
      "Epoch 56/100\n",
      "40000/40000 [==============================] - 16s 401us/step - loss: 0.6374 - acc: 0.6499\n",
      "Epoch 57/100\n",
      "40000/40000 [==============================] - 15s 385us/step - loss: 0.6372 - acc: 0.6502\n",
      "Epoch 58/100\n",
      "40000/40000 [==============================] - 15s 387us/step - loss: 0.6372 - acc: 0.6502\n",
      "Epoch 59/100\n",
      "40000/40000 [==============================] - 15s 378us/step - loss: 0.6373 - acc: 0.6498\n",
      "Epoch 60/100\n",
      "40000/40000 [==============================] - 16s 402us/step - loss: 0.6372 - acc: 0.6501\n",
      "Epoch 61/100\n",
      "40000/40000 [==============================] - 15s 384us/step - loss: 0.6372 - acc: 0.6506\n",
      "Epoch 62/100\n",
      "40000/40000 [==============================] - 15s 380us/step - loss: 0.6372 - acc: 0.6501\n",
      "Epoch 63/100\n",
      "40000/40000 [==============================] - 15s 387us/step - loss: 0.6373 - acc: 0.6505\n",
      "Epoch 64/100\n",
      "40000/40000 [==============================] - 15s 377us/step - loss: 0.6371 - acc: 0.6501\n",
      "Epoch 65/100\n",
      "40000/40000 [==============================] - 15s 375us/step - loss: 0.6370 - acc: 0.6502\n",
      "Epoch 66/100\n",
      "40000/40000 [==============================] - 15s 380us/step - loss: 0.6370 - acc: 0.6501\n",
      "Epoch 67/100\n",
      "40000/40000 [==============================] - 15s 370us/step - loss: 0.6369 - acc: 0.6504\n",
      "Epoch 68/100\n",
      "40000/40000 [==============================] - 16s 410us/step - loss: 0.6371 - acc: 0.6500\n",
      "Epoch 69/100\n",
      "40000/40000 [==============================] - 14s 359us/step - loss: 0.6368 - acc: 0.6497\n",
      "Epoch 70/100\n",
      "40000/40000 [==============================] - 15s 380us/step - loss: 0.6371 - acc: 0.6504\n",
      "Epoch 71/100\n",
      "40000/40000 [==============================] - 15s 382us/step - loss: 0.6371 - acc: 0.6502\n",
      "Epoch 72/100\n",
      "40000/40000 [==============================] - 16s 392us/step - loss: 0.6369 - acc: 0.6502\n",
      "Epoch 73/100\n",
      "40000/40000 [==============================] - 16s 388us/step - loss: 0.6369 - acc: 0.6504\n",
      "Epoch 74/100\n",
      "40000/40000 [==============================] - 15s 378us/step - loss: 0.6367 - acc: 0.6507\n",
      "Epoch 75/100\n",
      "40000/40000 [==============================] - 15s 381us/step - loss: 0.6369 - acc: 0.6497\n",
      "Epoch 76/100\n",
      "40000/40000 [==============================] - 17s 414us/step - loss: 0.6367 - acc: 0.6502\n",
      "Epoch 77/100\n",
      "40000/40000 [==============================] - 15s 377us/step - loss: 0.6369 - acc: 0.6501\n",
      "Epoch 78/100\n",
      "40000/40000 [==============================] - 15s 370us/step - loss: 0.6368 - acc: 0.6505\n",
      "Epoch 79/100\n"
     ]
    },
    {
     "name": "stdout",
     "output_type": "stream",
     "text": [
      "40000/40000 [==============================] - 15s 375us/step - loss: 0.6370 - acc: 0.6501\n",
      "Epoch 80/100\n",
      "40000/40000 [==============================] - 15s 374us/step - loss: 0.6368 - acc: 0.6504\n",
      "Epoch 81/100\n",
      "40000/40000 [==============================] - 18s 451us/step - loss: 0.6368 - acc: 0.6507\n",
      "Epoch 82/100\n",
      "40000/40000 [==============================] - 18s 441us/step - loss: 0.6367 - acc: 0.6501\n",
      "Epoch 83/100\n",
      "40000/40000 [==============================] - 17s 426us/step - loss: 0.6367 - acc: 0.6502\n",
      "Epoch 84/100\n",
      "40000/40000 [==============================] - 16s 405us/step - loss: 0.6367 - acc: 0.6501\n",
      "Epoch 85/100\n",
      "40000/40000 [==============================] - 17s 422us/step - loss: 0.6365 - acc: 0.6505\n",
      "Epoch 86/100\n",
      "40000/40000 [==============================] - 17s 427us/step - loss: 0.6367 - acc: 0.6505\n",
      "Epoch 87/100\n",
      "40000/40000 [==============================] - 18s 449us/step - loss: 0.6365 - acc: 0.6506\n",
      "Epoch 88/100\n",
      "40000/40000 [==============================] - 16s 394us/step - loss: 0.6366 - acc: 0.6501\n",
      "Epoch 89/100\n",
      "40000/40000 [==============================] - 16s 388us/step - loss: 0.6365 - acc: 0.6503\n",
      "Epoch 90/100\n",
      "40000/40000 [==============================] - 16s 411us/step - loss: 0.6364 - acc: 0.6497\n",
      "Epoch 91/100\n",
      "40000/40000 [==============================] - 17s 413us/step - loss: 0.6367 - acc: 0.6500\n",
      "Epoch 92/100\n",
      "40000/40000 [==============================] - 17s 422us/step - loss: 0.6364 - acc: 0.6500\n",
      "Epoch 93/100\n",
      "40000/40000 [==============================] - 17s 426us/step - loss: 0.6363 - acc: 0.6502\n",
      "Epoch 94/100\n",
      "40000/40000 [==============================] - 16s 399us/step - loss: 0.6363 - acc: 0.6505\n",
      "Epoch 95/100\n",
      "40000/40000 [==============================] - 15s 377us/step - loss: 0.6362 - acc: 0.6504\n",
      "Epoch 96/100\n",
      "40000/40000 [==============================] - 15s 383us/step - loss: 0.6365 - acc: 0.6503\n",
      "Epoch 97/100\n",
      "40000/40000 [==============================] - 16s 388us/step - loss: 0.6364 - acc: 0.6503\n",
      "Epoch 98/100\n",
      "40000/40000 [==============================] - 15s 380us/step - loss: 0.6363 - acc: 0.6502\n",
      "Epoch 99/100\n",
      "40000/40000 [==============================] - 15s 375us/step - loss: 0.6364 - acc: 0.6500\n",
      "Epoch 100/100\n",
      "40000/40000 [==============================] - 15s 376us/step - loss: 0.6364 - acc: 0.6499\n"
     ]
    },
    {
     "data": {
      "text/plain": [
       "<keras.callbacks.History at 0x122ae5518>"
      ]
     },
     "execution_count": 150,
     "metadata": {},
     "output_type": "execute_result"
    }
   ],
   "source": [
    "full_model.fit( df_tr_modified, Y_train_cat, epochs=100)"
   ]
  },
  {
   "cell_type": "code",
   "execution_count": null,
   "metadata": {},
   "outputs": [],
   "source": []
  }
 ],
 "metadata": {
  "kernelspec": {
   "display_name": "Python 3",
   "language": "python",
   "name": "python3"
  },
  "language_info": {
   "codemirror_mode": {
    "name": "ipython",
    "version": 3
   },
   "file_extension": ".py",
   "mimetype": "text/x-python",
   "name": "python",
   "nbconvert_exporter": "python",
   "pygments_lexer": "ipython3",
   "version": "3.6.4"
  }
 },
 "nbformat": 4,
 "nbformat_minor": 2
}
